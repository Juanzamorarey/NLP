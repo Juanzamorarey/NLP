{
 "cells": [
  {
   "cell_type": "code",
   "execution_count": 1,
   "metadata": {},
   "outputs": [],
   "source": [
    "import pandas as pd\n",
    "import re\n",
    "import torch as pt\n"
   ]
  },
  {
   "cell_type": "code",
   "execution_count": 2,
   "metadata": {},
   "outputs": [],
   "source": [
    "lista_palabras_vectores = []\n",
    "# List of vectors\n",
    "\n",
    "with open(\"C:/Users/juan_/Desktop/programación/NLP_ML_DL_UdemyCourse/documents_for_course/glove.6B.50d.txt\", encoding=\"utf-8\", mode = \"r\") as doc:\n",
    "    txt = doc.readlines()\n",
    "for line in txt:\n",
    "    vector_palabra = []\n",
    "    lista_palabra_vector = []\n",
    "    match_palabra = re.findall(r\"^\\S+\",line)\n",
    "    palabra = match_palabra[0]\n",
    "    vector = re.sub(r\"^\\S+\",\"\", line)\n",
    "    vector = re.sub(r\"\\n|^\\s\",\"\", vector)\n",
    "    vector = vector.split()\n",
    "    for number in vector:\n",
    "        vector_palabra.append(float(number))\n",
    "    data = (palabra, vector)\n",
    "    lista_palabras_vectores.append(data)\n",
    "df = pd.DataFrame(lista_palabras_vectores,columns=[\"palabras\", \"vectores\"])"
   ]
  },
  {
   "cell_type": "code",
   "execution_count": 3,
   "metadata": {},
   "outputs": [
    {
     "data": {
      "text/html": [
       "<div>\n",
       "<style scoped>\n",
       "    .dataframe tbody tr th:only-of-type {\n",
       "        vertical-align: middle;\n",
       "    }\n",
       "\n",
       "    .dataframe tbody tr th {\n",
       "        vertical-align: top;\n",
       "    }\n",
       "\n",
       "    .dataframe thead th {\n",
       "        text-align: right;\n",
       "    }\n",
       "</style>\n",
       "<table border=\"1\" class=\"dataframe\">\n",
       "  <thead>\n",
       "    <tr style=\"text-align: right;\">\n",
       "      <th></th>\n",
       "      <th>palabras</th>\n",
       "      <th>vectores</th>\n",
       "    </tr>\n",
       "  </thead>\n",
       "  <tbody>\n",
       "    <tr>\n",
       "      <th>0</th>\n",
       "      <td>the</td>\n",
       "      <td>[0.418, 0.24968, -0.41242, 0.1217, 0.34527, -0...</td>\n",
       "    </tr>\n",
       "    <tr>\n",
       "      <th>1</th>\n",
       "      <td>,</td>\n",
       "      <td>[0.013441, 0.23682, -0.16899, 0.40951, 0.63812...</td>\n",
       "    </tr>\n",
       "    <tr>\n",
       "      <th>2</th>\n",
       "      <td>.</td>\n",
       "      <td>[0.15164, 0.30177, -0.16763, 0.17684, 0.31719,...</td>\n",
       "    </tr>\n",
       "    <tr>\n",
       "      <th>3</th>\n",
       "      <td>of</td>\n",
       "      <td>[0.70853, 0.57088, -0.4716, 0.18048, 0.54449, ...</td>\n",
       "    </tr>\n",
       "    <tr>\n",
       "      <th>4</th>\n",
       "      <td>to</td>\n",
       "      <td>[0.68047, -0.039263, 0.30186, -0.17792, 0.4296...</td>\n",
       "    </tr>\n",
       "  </tbody>\n",
       "</table>\n",
       "</div>"
      ],
      "text/plain": [
       "  palabras                                           vectores\n",
       "0      the  [0.418, 0.24968, -0.41242, 0.1217, 0.34527, -0...\n",
       "1        ,  [0.013441, 0.23682, -0.16899, 0.40951, 0.63812...\n",
       "2        .  [0.15164, 0.30177, -0.16763, 0.17684, 0.31719,...\n",
       "3       of  [0.70853, 0.57088, -0.4716, 0.18048, 0.54449, ...\n",
       "4       to  [0.68047, -0.039263, 0.30186, -0.17792, 0.4296..."
      ]
     },
     "execution_count": 3,
     "metadata": {},
     "output_type": "execute_result"
    }
   ],
   "source": [
    "df.head()"
   ]
  },
  {
   "cell_type": "code",
   "execution_count": 4,
   "metadata": {},
   "outputs": [],
   "source": [
    "def perform_arithmetics(w1,w2,w3,lista_palabras_vectores):\n",
    "#     # This function must do the airthmetics correspondent to these words and return the word that corresponds to the operation \n",
    "#     # w1 - w2 = ? - w3 -> w1 - w2 + w3 = ?\n",
    "  # First we take the vectors of the words from our DF and store them in the size of the vector that we want\n",
    "  df = pd.DataFrame(lista_palabras_vectores,columns=[\"palabras\", \"vectores\"])\n",
    "  row_w1 = df.query(f\"palabras=='{w1}'\")  \n",
    "  v1 = list(row_w1[\"vectores\"])\n",
    "  v1_right_form = [float(i) for i in v1[0]]\n",
    "  vec_row_1 = pt.tensor(v1_right_form)\n",
    "  row_w2 = df.query(f\"palabras=='{w2}'\")\n",
    "  v2 = list(row_w2[\"vectores\"])\n",
    "  v2_right_form = [float(i) for i in v2[0]]\n",
    "  vec_row_2 = pt.tensor(v2_right_form)\n",
    "  row_w3 = df.query(f\"palabras=='{w3}'\")\n",
    "  v3 = list(row_w3[\"vectores\"])\n",
    "  v3_right_form = [float(i) for i in v3[0]]\n",
    "  vec_row_3 = pt.tensor(v3_right_form)\n",
    "  # We now perform the arithmetic. Remember: king - man = queen -woman -> king - man + woman = queen. That's the vector we're looking for which would be called target_vector\n",
    "  target_vector = vec_row_1 - vec_row_2\n",
    "  target_vector = target_vector + vec_row_3\n",
    "  # This is the vector we are looking for\n",
    "  target_vector = target_vector.reshape(1,50)\n",
    "  # This variable max_sim will store the similarity while we iterate through the vectors\n",
    "  max_sim = 0.0\n",
    "  lista_palabras = []\n",
    "  # We iterate through the dataset\n",
    "  for count, vector_comparado in enumerate(lista_palabras_vectores):\n",
    "    # We don't want to vector of the word itself which is probably the most similar to the operation\n",
    "    if lista_palabras_vectores[count][0] != w1:\n",
    "      # We get the vector of a word an prepare it\n",
    "      compared_vector = [float(i) for i in vector_comparado[1]]\n",
    "      comparing_vector = pt.Tensor(compared_vector)\n",
    "      # If its form is correct we execute the arithmetics\n",
    "      if comparing_vector.shape ==(50,):\n",
    "        test_1 = [target_vector]\n",
    "        test_2 = [comparing_vector]\n",
    "        cos_sim = pt.cosine_similarity(target_vector,comparing_vector)\n",
    "      # If the similarity is higher than the want that we already have we sotre the word\n",
    "      if cos_sim > max_sim:\n",
    "        indice = count\n",
    "        max_sim = cos_sim\n",
    "        lista_palabras.append(str(lista_palabras_vectores[indice][0]))\n",
    "  # Finally we see the words that are most related to the arithmetics that we are doing in our dataset. This word would be the last one of our list\n",
    "  lista_palabras.reverse()\n",
    "  return lista_palabras[0]\n",
    "\n",
    "\n"
   ]
  },
  {
   "cell_type": "code",
   "execution_count": 5,
   "metadata": {},
   "outputs": [
    {
     "data": {
      "text/plain": [
       "'queen'"
      ]
     },
     "execution_count": 5,
     "metadata": {},
     "output_type": "execute_result"
    }
   ],
   "source": [
    "perform_arithmetics(\"king\",\"man\",\"woman\",lista_palabras_vectores)"
   ]
  },
  {
   "cell_type": "code",
   "execution_count": null,
   "metadata": {},
   "outputs": [],
   "source": []
  }
 ],
 "metadata": {
  "kernelspec": {
   "display_name": "Python 3",
   "language": "python",
   "name": "python3"
  },
  "language_info": {
   "codemirror_mode": {
    "name": "ipython",
    "version": 3
   },
   "file_extension": ".py",
   "mimetype": "text/x-python",
   "name": "python",
   "nbconvert_exporter": "python",
   "pygments_lexer": "ipython3",
   "version": "3.9.4"
  },
  "orig_nbformat": 4,
  "vscode": {
   "interpreter": {
    "hash": "c0201f44e18421a348372a57be9a6ecc536ca8ed47d3c72bd26e81ed63defa3d"
   }
  }
 },
 "nbformat": 4,
 "nbformat_minor": 2
}
